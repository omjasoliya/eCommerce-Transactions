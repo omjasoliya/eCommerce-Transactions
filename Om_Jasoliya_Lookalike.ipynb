{
  "nbformat": 4,
  "nbformat_minor": 0,
  "metadata": {
    "colab": {
      "provenance": []
    },
    "kernelspec": {
      "name": "python3",
      "display_name": "Python 3"
    },
    "language_info": {
      "name": "python"
    }
  },
  "cells": [
    {
      "cell_type": "code",
      "source": [
        "import pandas as pd\n",
        "import numpy as np\n",
        "from sklearn.preprocessing import StandardScaler\n",
        "from sklearn.metrics.pairwise import cosine_similarity\n",
        "\n",
        "customers = pd.read_csv('Customers.csv')\n",
        "products = pd.read_csv('Products.csv')\n",
        "transactions = pd.read_csv('Transactions.csv')"
      ],
      "metadata": {
        "id": "Aahgs8j3ipHk"
      },
      "execution_count": 46,
      "outputs": []
    },
    {
      "cell_type": "code",
      "execution_count": 47,
      "metadata": {
        "id": "O_qA7LmxYnH_"
      },
      "outputs": [],
      "source": [
        "customers['SignupDate'] = pd.to_datetime(customers['SignupDate'])\n",
        "customers['SignupYearMonth'] = customers['SignupDate'].dt.to_period('M')\n",
        "transaction_details = transactions.merge(customers[['CustomerID', 'Region']], on='CustomerID', how='left')\n",
        "transaction_details = transaction_details.merge(products[['ProductID', 'Category']], on='ProductID', how='left')\n",
        "\n",
        "\n",
        "customer_profile = transaction_details.groupby('CustomerID').agg({\n",
        "    'Quantity': 'sum',\n",
        "    'TotalValue': 'sum',\n",
        "    'Category': pd.Series.nunique,\n",
        "    'Region': 'first'\n",
        "}).reset_index()\n",
        "\n",
        "customer_profile = pd.get_dummies(customer_profile, columns=['Region'], drop_first=True)\n",
        "\n",
        "scaler = StandardScaler()\n",
        "numerical_features = ['Quantity', 'TotalValue', 'Category']\n",
        "customer_profile[numerical_features] = scaler.fit_transform(customer_profile[numerical_features])\n",
        "\n",
        "def find_lookalikes(customer_id, top_n=3):\n",
        "    target_customer = customer_profile[customer_profile['CustomerID'] == customer_id].drop('CustomerID', axis=1)\n",
        "    similarity_scores = cosine_similarity(target_customer, customer_profile.drop('CustomerID', axis=1))\n",
        "    similarity_df = pd.DataFrame(similarity_scores.T, columns=['SimilarityScore'])\n",
        "    similarity_df['CustomerID'] = customer_profile['CustomerID']\n",
        "    similar_customers = similarity_df.sort_values(by='SimilarityScore', ascending=False).iloc[1:top_n+1]\n",
        "\n",
        "    return similar_customers\n"
      ]
    },
    {
      "cell_type": "code",
      "source": [
        "#execution\n",
        "print(\"Customer id should be in range C0001 to C0020 only\")\n",
        "customer_id = input(\"Enter customer Id: \")\n",
        "if customer_id[0] == 'C' and 0<=int(customer_id[3:5])< 21 and len(customer_id)==5:\n",
        "  lookalikes = find_lookalikes(customer_id)\n",
        "  print(f\"Top 3 lookalikes for customer {customer_id} are:\")\n",
        "  print(\"----------------------------------------------\")\n",
        "  print(lookalikes)\n",
        "else:\n",
        "  print(\"Please enter Right customer id\")"
      ],
      "metadata": {
        "colab": {
          "base_uri": "https://localhost:8080/"
        },
        "id": "fDSi39TTh5zi",
        "outputId": "0ae01d49-cec1-4ebf-8206-b8355c31df5d"
      },
      "execution_count": 42,
      "outputs": [
        {
          "output_type": "stream",
          "name": "stdout",
          "text": [
            "Customer id should be in range C0001 to C0020 only\n",
            "Enter customer Id: C0012\n",
            "Top 3 lookalikes for customer C0012 are:\n",
            "----------------------------------------------\n",
            "     SimilarityScore CustomerID\n",
            "147         0.992978      C0148\n",
            "154         0.982328      C0155\n",
            "86          0.975366      C0087\n"
          ]
        }
      ]
    },
    {
      "cell_type": "code",
      "source": [
        "# Compute lookalikes for the first 20 customers (C0001 to C0020)\n",
        "lookalike_map = {}\n",
        "for i in range(1, 21):\n",
        "    customer_id = f\"C{i:04d}\"\n",
        "    if customer_id in customer_profile['CustomerID'].values:\n",
        "        similar_customers = find_lookalikes(customer_id)\n",
        "        lookalike_map[customer_id] = [\n",
        "            {\"CustomerID\": row[\"CustomerID\"], \"Score\": row[\"SimilarityScore\"]}\n",
        "            for _, row in similar_customers.iterrows()\n",
        "        ]\n",
        "    else:\n",
        "        print(f\"Customer {customer_id} not found in the dataset.\")\n",
        "\n",
        "output_data = []\n",
        "for customer_id, lookalikes in lookalike_map.items():\n",
        "    lookalikes_str = \"; \".join([f\"{l['CustomerID']}, {l['Score']:.2f}\" for l in lookalikes])\n",
        "    output_data.append({\"CustomerID\": customer_id, \"Lookalikes\": lookalikes_str})\n",
        "\n",
        "lookalike_df = pd.DataFrame(output_data)\n",
        "lookalike_df.to_csv(\"Lookalike.csv\", index=False)\n",
        "\n",
        "print(\"Lookalike.csv has been created successfully.\")\n"
      ],
      "metadata": {
        "colab": {
          "base_uri": "https://localhost:8080/"
        },
        "id": "F1wGqKoUkQ0d",
        "outputId": "4bcbd599-9392-4559-ffae-6beba8180a83"
      },
      "execution_count": 52,
      "outputs": [
        {
          "output_type": "stream",
          "name": "stdout",
          "text": [
            "Lookalike.csv has been created successfully.\n"
          ]
        }
      ]
    },
    {
      "cell_type": "code",
      "source": [],
      "metadata": {
        "id": "CtrDWvqLx5mY"
      },
      "execution_count": null,
      "outputs": []
    }
  ]
}